{
  "nbformat": 4,
  "nbformat_minor": 0,
  "metadata": {
    "colab": {
      "provenance": [],
      "collapsed_sections": [
        "8rqC4VhTTqV6"
      ],
      "authorship_tag": "ABX9TyOzvYcER9bohp4bIjnGXafi",
      "include_colab_link": true
    },
    "kernelspec": {
      "name": "python3",
      "display_name": "Python 3"
    },
    "language_info": {
      "name": "python"
    }
  },
  "cells": [
    {
      "cell_type": "markdown",
      "metadata": {
        "id": "view-in-github",
        "colab_type": "text"
      },
      "source": [
        "<a href=\"https://colab.research.google.com/github/sleepncaffeine/my_small_python_notes/blob/main/python_notebooks/%ED%8C%8C%EC%9D%B4%EC%8D%AC_4_%EC%9E%85%EB%A0%A5(input()).ipynb\" target=\"_parent\"><img src=\"https://colab.research.google.com/assets/colab-badge.svg\" alt=\"Open In Colab\"/></a>"
      ]
    },
    {
      "cell_type": "markdown",
      "source": [
        "22036의 Python 시험대비 교재\n",
        "* 이 교재는 여러 수준의 독자를 위해 제작되었습니다\n",
        "* 오류나 지적사항, 건의사항은 카톡으로 문의해주세요\n",
        "* 이해가 가지 않는 부분이나 추가 설명(추가 예시라던가 예제라던가)이 필요하시면 마찬가지로 문의해주세요\n",
        "* '~~알고리즘 정리해주세요' '풀이방법 정리해주세요' 같은 요구사항도 마찬가지로\n",
        "* 피드백 적극 반영합니다\n",
        "* ~~문의좀 해줘요 자습하기싫어~~"
      ],
      "metadata": {
        "id": "SLoCnBoATnMH"
      }
    },
    {
      "cell_type": "markdown",
      "source": [
        "### 목차"
      ],
      "metadata": {
        "id": "8rqC4VhTTqV6"
      }
    },
    {
      "cell_type": "markdown",
      "source": [
        "Chapter 1. 입/출력\n",
        "\n",
        "[파이썬 1-1.출력(print())](https://colab.research.google.com/drive/1kzGr3G7fuvw_HR2yOr2whP4xUFg1hlan?usp=sharing)\n",
        "\n",
        "[파이썬 1-2.입력(input())](https://colab.research.google.com/drive/1nmC2Z9VaUmZO1s0OWarg8fw4QbLR3rrU?usp=**sharing**)"
      ],
      "metadata": {
        "id": "-D8BoO7kTsd9"
      }
    },
    {
      "cell_type": "markdown",
      "source": [
        "# Python의 `input()`으로 입력하기"
      ],
      "metadata": {
        "id": "7RHeNLl9T2tB"
      }
    },
    {
      "cell_type": "markdown",
      "source": [
        "`inputt()` 메서드는 Python에서 입력하는 데 사용됩니다. 콘솔이나 기타 출력 장치에 텍스트나 데이터를 출력할 수 있는 내장 기능입니다. 이 섹션에서는 Python에서 `print()` 메서드를 사용하는 방법에 대한 기본 사항을 다룹니다."
      ],
      "metadata": {
        "id": "TOanqCxGzjNO"
      }
    },
    {
      "cell_type": "markdown",
      "source": [
        "## 기본 사용법"
      ],
      "metadata": {
        "id": "e14-YeZwzzZZ"
      }
    },
    {
      "cell_type": "markdown",
      "source": [
        "`input()` 함수의 기본 구문은 다음과 같습니다:\n",
        "```python\n",
        "input(prompt)\n",
        "```\n",
        "`prompt`는 선택적 문자열 인자이며, 입력을 읽기 전에 사용자에게 표시될 메시지를 지정합니다.\n",
        "\n",
        "`input()` 함수를 호출하면 프롬프트(있는 경우)가 사용자에게 표시되고, 사용자가 텍스트 줄을 입력하기를 기다립니다. 사용자가 Enter 키를 누르면, 함수는 문자열 형태로 입력을 반환합니다.\n",
        "\n",
        "다음은 예시입니다."
      ],
      "metadata": {
        "id": "6iKYlAAXz03Y"
      }
    },
    {
      "cell_type": "code",
      "source": [
        "name = input(\"What is your name? \")\n",
        "print(\"Hello, \" + name + \"!\")"
      ],
      "metadata": {
        "colab": {
          "base_uri": "https://localhost:8080/"
        },
        "id": "J_VUE92l0hqD",
        "outputId": "b5c0513a-ed27-408d-cfa6-bcb7ec8fd556"
      },
      "execution_count": null,
      "outputs": [
        {
          "output_type": "stream",
          "name": "stdout",
          "text": [
            "What is your name? Alice\n",
            "Hello, Alice!\n"
          ]
        }
      ]
    },
    {
      "cell_type": "markdown",
      "source": [
        "이 예제에서는 `input()` 함수가 \"What is your name?\" 메시지를 사용자에게 표시하고, 사용자가 이름을 입력할 때까지 대기하며, 입력을 문자열로 반환합니다. 그런 다음 `+` 연산자를 사용하여 \"Hello,\" 문자열과 입력 문자열을 연결하고 결과를 출력합니다."
      ],
      "metadata": {
        "id": "j2JuSZJv0ryc"
      }
    },
    {
      "cell_type": "markdown",
      "source": [
        "## `strip()` 사용하기"
      ],
      "metadata": {
        "id": "sKxY-saF06jM"
      }
    },
    {
      "cell_type": "markdown",
      "source": [
        "`strip()` 메서드는 문자열에서 시작과 끝에 있는 공백을 제거하는 데 사용됩니다. 이는 사용자 입력을 정리하는 데 유용합니다. 사용자가 실수로 추가한 공백이 포함될 수 있기 때문입니다. 다음은 예시입니다:"
      ],
      "metadata": {
        "id": "zG1WmKa-097T"
      }
    },
    {
      "cell_type": "code",
      "source": [
        "name = input(\"Enter your name: \").strip()\n",
        "print(\"Hello, \" + name + \"!\")"
      ],
      "metadata": {
        "colab": {
          "base_uri": "https://localhost:8080/"
        },
        "id": "gWfbJGXA1BQO",
        "outputId": "34f7b869-5c5c-4ede-ea8a-cbcf9c3f48dc"
      },
      "execution_count": null,
      "outputs": [
        {
          "output_type": "stream",
          "name": "stdout",
          "text": [
            "Enter your name: Alice             \n",
            "Hello, Alice!\n"
          ]
        }
      ]
    },
    {
      "cell_type": "markdown",
      "source": [
        "이 예시에서는, 사용자의 이름에서 선행 또는 후행 공백을 제거하기 위해 `strip()` 메소드를 사용하여 `name` 변수에 저장합니다. 이를 통해 추가적인 공백이 없는 깨끗한 이름 문자열을 얻을 수 있습니다. 그 후에는 `print()` 함수를 사용하여 깔끔한 인사말을 출력합니다."
      ],
      "metadata": {
        "id": "QMxOnVDb2hgr"
      }
    },
    {
      "cell_type": "markdown",
      "source": [
        "## `split()` 사용하기"
      ],
      "metadata": {
        "id": "w1OUy6Lw3hwv"
      }
    },
    {
      "cell_type": "markdown",
      "source": [
        "`split()` 메서드를 사용하여 입력을 단어나 값으로 분리할 수 있습니다. 예를 들어, 사용자가 공백으로 구분된 두 숫자를 입력하면 다음과 같이 각각의 변수로 읽을 수 있습니다."
      ],
      "metadata": {
        "id": "Qhl7u7gI3laq"
      }
    },
    {
      "cell_type": "code",
      "source": [
        "numbers_str = input(\"Enter two numbers separated by a space: \")\n",
        "a, b = numbers_str.split()\n",
        "a = int(a)\n",
        "b = int(b)\n",
        "print(\"The sum of the two numbers is:\", a + b)"
      ],
      "metadata": {
        "colab": {
          "base_uri": "https://localhost:8080/"
        },
        "id": "bstpQ1VJ38Sb",
        "outputId": "ef02c9d4-ddd2-41d9-be21-a0d98f684948"
      },
      "execution_count": null,
      "outputs": [
        {
          "output_type": "stream",
          "name": "stdout",
          "text": [
            "Enter two numbers separated by a space: 5 4\n",
            "The sum of the two numbers is: 9\n"
          ]
        }
      ]
    },
    {
      "cell_type": "markdown",
      "source": [
        "또한, `split()`안에 특정한 문자열을 넣으면 다음과 같이 특정한 문자열을 기준으로 각각의 변수로 읽을 수 있습니다."
      ],
      "metadata": {
        "id": "ZuZdCAso5eGl"
      }
    },
    {
      "cell_type": "code",
      "source": [
        "numbers_str = input(\"Enter two numbers separated by a comma: \")\n",
        "a, b = numbers_str.split(',')\n",
        "a = int(a)\n",
        "b = int(b)\n",
        "print(\"The sum of the two numbers is:\", a + b)"
      ],
      "metadata": {
        "colab": {
          "base_uri": "https://localhost:8080/"
        },
        "id": "eFw8YWut5nZD",
        "outputId": "e8f17cf3-2bc7-4909-8019-b9ec6336bec7"
      },
      "execution_count": null,
      "outputs": [
        {
          "output_type": "stream",
          "name": "stdout",
          "text": [
            "Enter two numbers separated by a comma: 5,4\n",
            "The sum of the two numbers is: 9\n"
          ]
        }
      ]
    },
    {
      "cell_type": "markdown",
      "source": [
        "## 입력을 수치형 타입으로 반환하기"
      ],
      "metadata": {
        "id": "EHe0vvSn6M-7"
      }
    },
    {
      "cell_type": "markdown",
      "source": [
        "기본적으로 `input()` 함수는 문자열을 반환합니다. 사용자가 입력한 숫자 값을 읽으려면, 해당 숫자 형식 (예: `int`, `float` 등)의 적절한 변환 함수를 사용하여 입력을 숫자 값으로 변환해야 합니다. 아래는 예시입니다."
      ],
      "metadata": {
        "id": "kStZZrn-6RZz"
      }
    },
    {
      "cell_type": "code",
      "source": [
        "age_str = input(\"Enter your age: \")\n",
        "age = int(age_str)\n",
        "print(\"You will be \" + str(age + 1) + \" next year.\")"
      ],
      "metadata": {
        "colab": {
          "base_uri": "https://localhost:8080/"
        },
        "id": "bLn71PyV6usz",
        "outputId": "e34f3295-2816-4e9a-8788-962e6e32e36a"
      },
      "execution_count": null,
      "outputs": [
        {
          "output_type": "stream",
          "name": "stdout",
          "text": [
            "Enter your age: 20\n",
            "You will be 21 next year.\n"
          ]
        }
      ]
    },
    {
      "cell_type": "markdown",
      "source": [
        "이 예시에서, 사용자에게 나이를 문자열로 입력하도록 안내합니다. 이 값은 `int()` 함수를 사용하여 정수로 변환되어 `age` 변수에 저장됩니다. 마지막으로, 프로그램은 사용자의 내년 나이를 알려주는 메시지를 출력합니다."
      ],
      "metadata": {
        "id": "Umct6jBL62Qq"
      }
    },
    {
      "cell_type": "markdown",
      "source": [
        "### `map()` 함수 이용하기"
      ],
      "metadata": {
        "id": "YVjFkPpkCF42"
      }
    },
    {
      "cell_type": "markdown",
      "source": [
        "`map()` 함수는 반복 가능한 객체 (예: 리스트 등)의 각 항목에 함수를 적용하여 결과를 포함하는 새로운 반복 가능한 객체를 반환하는 데 사용될 수 있습니다. `input()`과 함께 `map()`을 사용하는 일반적인 사용 사례 중 하나는 사용자로부터 숫자 목록을 읽고 정수로 변환하는 것입니다. 다음은 예시입니다:"
      ],
      "metadata": {
        "id": "sjhoK0AYCJCo"
      }
    },
    {
      "cell_type": "code",
      "source": [
        "numbers_str = input(\"Enter a list of numbers separated by spaces: \")\n",
        "numbers = list(map(int, numbers_str.split()))\n",
        "print(\"The sum of the numbers is:\", sum(numbers))"
      ],
      "metadata": {
        "colab": {
          "base_uri": "https://localhost:8080/"
        },
        "id": "oK_5lxEICRGz",
        "outputId": "0489aa56-1ff2-4298-f9ff-3dabe4fe8f12"
      },
      "execution_count": null,
      "outputs": [
        {
          "output_type": "stream",
          "name": "stdout",
          "text": [
            "Enter a list of numbers separated by spaces: 1 2 3 4 5\n",
            "The sum of the numbers is: 15\n"
          ]
        }
      ]
    },
    {
      "cell_type": "markdown",
      "source": [
        "이 예제에서는 먼저 `input()` 함수를 사용하여 사용자로부터 공백으로 구분된 숫자 문자열을 읽습니다. 그런 다음 `split()` 메소드를 사용하여 문자열을 개별 문자열의 리스트로 분리합니다. 마지막으로 `map()` 함수를 사용하여 리스트의 각 항목에 `int()` 함수를 적용하여 정수로 변환합니다. 결과적으로 정수의 리스트는 `numbers` 변수에 저장되고 `sum()` 함수를 사용하여 숫자의 합계를 출력합니다."
      ],
      "metadata": {
        "id": "BnAo77LTC1JB"
      }
    },
    {
      "cell_type": "markdown",
      "source": [
        "또한, 위와 같이 두 변수들을 한번에 받고 싶을 때에도 `map()`함수와 `split()`함수를 이용해 받을 수 있습니다. 아래는 공백으로 구분된 두 변수를 `map()`함수와 `split()`함수로 받는 예시입니다:"
      ],
      "metadata": {
        "id": "4AjYjkLgDTPd"
      }
    },
    {
      "cell_type": "code",
      "source": [
        "a, b = map(int, input(\"Enter two integers seperated by a space: \").split())\n",
        "print(\"The sum of two numbers is:\", a+b)"
      ],
      "metadata": {
        "colab": {
          "base_uri": "https://localhost:8080/"
        },
        "id": "m-mn4l_6DhV8",
        "outputId": "8f56ecb2-d801-485a-ed38-81c90a6dcd43"
      },
      "execution_count": null,
      "outputs": [
        {
          "output_type": "stream",
          "name": "stdout",
          "text": [
            "Enter two integers seperated by a space: 3 4\n",
            "The sum of two numbers is: 7\n"
          ]
        }
      ]
    },
    {
      "cell_type": "markdown",
      "source": [
        "## 예제"
      ],
      "metadata": {
        "id": "WQYf4xYLLS8m"
      }
    },
    {
      "cell_type": "markdown",
      "source": [
        "### 예제 1"
      ],
      "metadata": {
        "id": "b7VduZhzLVO9"
      }
    },
    {
      "cell_type": "markdown",
      "source": [
        "다음 코드들 중 문자열 `s`를 단어 리스트로 분할하고 각 단어에서 앞뒤의 모든 공백을 제거하고 결과를 `words`라는 리스트에 저장하는 과정을 성공적으로 실행하는 것은 무엇입니까?\n",
        "\n",
        "1. `words = s.split().strip()`<br>\n",
        "2. `words = map(str.strip, s.split())`<br>\n",
        "3. `words = map(str.split, s.strip())`<br>\n",
        "4. `words = map(str.strip, s.split(\" \"))`<br>"
      ],
      "metadata": {
        "id": "4xpaoYFCLsnl"
      }
    },
    {
      "cell_type": "code",
      "source": [
        "정답 = 0 #@param {type:\"integer\"}\n",
        "if 정답 not in range (1,5):\n",
        "    print(\"유효한 숫자를 입력해 주세요\")\n",
        "elif 정답 == 2:\n",
        "    print(\"CORRECT\")\n",
        "else:\n",
        "    print(\"WRONG\")\n",
        "    print(\"Please try again.\")"
      ],
      "metadata": {
        "cellView": "form",
        "id": "uLDuiXNwOy_8"
      },
      "execution_count": null,
      "outputs": []
    },
    {
      "cell_type": "markdown",
      "source": [
        "### 예제 2"
      ],
      "metadata": {
        "id": "5snvLXMxPBAx"
      }
    },
    {
      "cell_type": "markdown",
      "source": [
        "다음 코드가 실행할 시 출력되는 결과로 알맞은 것을 입력하시오.\n",
        "\n",
        "단, 코드를 실행 시 `1 5 7`이 입력된다.\n",
        "```python\n",
        "a, b, c = map(int, input().split())\n",
        "print(a + b + c)\n",
        "```"
      ],
      "metadata": {
        "id": "qRqgArSmPuuw"
      }
    },
    {
      "cell_type": "code",
      "source": [
        "정답 = \"\" #@param {type:\"string\"}\n",
        "\n",
        "if 정답 == '13':\n",
        "    print(\"CORRECT\")\n",
        "else:\n",
        "    print(\"WRONG\")\n",
        "    print(\"Please try again.\")"
      ],
      "metadata": {
        "cellView": "form",
        "id": "kTVDjGrZQUiR"
      },
      "execution_count": null,
      "outputs": []
    }
  ]
}